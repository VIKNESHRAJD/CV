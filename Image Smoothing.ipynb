{
 "cells": [
  {
   "cell_type": "markdown",
   "id": "68da926c-4ece-47d8-9a78-10482bbf1eaa",
   "metadata": {},
   "source": [
    "# Importing Libraries"
   ]
  },
  {
   "cell_type": "code",
   "execution_count": 1,
   "id": "e9f6e471-e503-4180-96e1-abe4db2ec96c",
   "metadata": {},
   "outputs": [],
   "source": [
    "import cv2\n",
    "import numpy as np "
   ]
  },
  {
   "cell_type": "code",
   "execution_count": 2,
   "id": "7952c15b-6854-4ba0-bb21-1254e903b92f",
   "metadata": {},
   "outputs": [],
   "source": [
    "img = cv2.imread('A2.jpeg')"
   ]
  },
  {
   "cell_type": "markdown",
   "id": "8442abb8-5c8f-4779-8a32-eac8b86374fb",
   "metadata": {},
   "source": [
    "# Image Resize"
   ]
  },
  {
   "cell_type": "markdown",
   "id": "242d7a29-8675-4be5-9a39-87d89c7f91c3",
   "metadata": {},
   "source": [
    "# Shape after resize"
   ]
  },
  {
   "cell_type": "code",
   "execution_count": 3,
   "id": "1c20d7ea-23f3-4f79-8d92-604d99ff6302",
   "metadata": {},
   "outputs": [],
   "source": [
    "sh= img.shape\n",
    "sh\n",
    "resize = cv2.resize (img,(500,500))"
   ]
  },
  {
   "cell_type": "code",
   "execution_count": 4,
   "id": "54601b68-0675-4753-b30a-915f08e36c51",
   "metadata": {},
   "outputs": [
    {
     "name": "stdout",
     "output_type": "stream",
     "text": [
      "(500, 500, 3)\n"
     ]
    }
   ],
   "source": [
    "print(resize.shape)"
   ]
  },
  {
   "cell_type": "markdown",
   "id": "6b726be3-68e3-4641-8e92-54a00d654a7d",
   "metadata": {},
   "source": [
    "# Display resize image"
   ]
  },
  {
   "cell_type": "code",
   "execution_count": 5,
   "id": "17bcb3ff-c5d1-4801-9284-a91bc405cd5b",
   "metadata": {},
   "outputs": [],
   "source": [
    "cv2.imshow(\"original\",img)\n",
    "cv2.imshow(\"RESIZE\",resize)\n",
    "cv2.waitKey(0)\n",
    "cv2.destroyAllWindows()           "
   ]
  },
  {
   "cell_type": "markdown",
   "id": "e62ac1b6-fbf5-4f51-99c1-4555a5511a3f",
   "metadata": {},
   "source": [
    "# Image Smoothing - 2D Convolution"
   ]
  },
  {
   "cell_type": "markdown",
   "id": "25c44134-c6e4-4862-b6fa-5c6313855490",
   "metadata": {},
   "source": [
    "# Kernel"
   ]
  },
  {
   "cell_type": "code",
   "execution_count": 8,
   "id": "798f1019-9501-4525-8a52-0d6eceefbc73",
   "metadata": {},
   "outputs": [
    {
     "data": {
      "text/plain": [
       "array([[0.04, 0.04, 0.04, 0.04, 0.04],\n",
       "       [0.04, 0.04, 0.04, 0.04, 0.04],\n",
       "       [0.04, 0.04, 0.04, 0.04, 0.04],\n",
       "       [0.04, 0.04, 0.04, 0.04, 0.04],\n",
       "       [0.04, 0.04, 0.04, 0.04, 0.04]])"
      ]
     },
     "execution_count": 8,
     "metadata": {},
     "output_type": "execute_result"
    }
   ],
   "source": [
    "KERNEL = np.ones((5,5),float)/25\n",
    "KERNEL"
   ]
  },
  {
   "cell_type": "markdown",
   "id": "ff1f2643-7e23-4a98-b116-4299beb8ce6d",
   "metadata": {},
   "source": [
    "# 2D Filtering"
   ]
  },
  {
   "cell_type": "code",
   "execution_count": 9,
   "id": "b03bcfdc-8dbc-4cf6-ba22-4f38cfd218cc",
   "metadata": {},
   "outputs": [],
   "source": [
    "filtering2D = cv2.filter2D(img, -1, KERNEL)"
   ]
  },
  {
   "cell_type": "markdown",
   "id": "0125194e-8a66-45c1-8c85-ddb19c0449a9",
   "metadata": {},
   "source": [
    "# 2D Filtering display"
   ]
  },
  {
   "cell_type": "code",
   "execution_count": 10,
   "id": "f5cc1ff0-69d6-4802-a6c2-44b416fda79e",
   "metadata": {
    "scrolled": true
   },
   "outputs": [
    {
     "data": {
      "text/plain": [
       "array([[[214, 144,  58],\n",
       "        [210, 142,  61],\n",
       "        [195, 135,  70],\n",
       "        ...,\n",
       "        [ 12,  53, 105],\n",
       "        [ 13,  53, 104],\n",
       "        [ 14,  53, 104]],\n",
       "\n",
       "       [[213, 144,  58],\n",
       "        [209, 142,  61],\n",
       "        [195, 135,  70],\n",
       "        ...,\n",
       "        [ 13,  53, 105],\n",
       "        [ 13,  53, 105],\n",
       "        [ 14,  53, 105]],\n",
       "\n",
       "       [[213, 144,  58],\n",
       "        [208, 142,  62],\n",
       "        [194, 135,  70],\n",
       "        ...,\n",
       "        [ 13,  53, 106],\n",
       "        [ 14,  54, 106],\n",
       "        [ 14,  54, 106]],\n",
       "\n",
       "       ...,\n",
       "\n",
       "       [[ 47, 132, 204],\n",
       "        [ 47, 132, 204],\n",
       "        [ 47, 132, 204],\n",
       "        ...,\n",
       "        [ 29, 107, 183],\n",
       "        [ 30, 106, 182],\n",
       "        [ 30, 106, 182]],\n",
       "\n",
       "       [[ 47, 132, 204],\n",
       "        [ 47, 132, 204],\n",
       "        [ 47, 132, 204],\n",
       "        ...,\n",
       "        [ 25, 103, 179],\n",
       "        [ 23, 100, 176],\n",
       "        [ 23, 100, 175]],\n",
       "\n",
       "       [[ 47, 132, 204],\n",
       "        [ 47, 132, 204],\n",
       "        [ 47, 132, 204],\n",
       "        ...,\n",
       "        [ 24, 102, 177],\n",
       "        [ 21,  98, 174],\n",
       "        [ 20,  96, 172]]], dtype=uint8)"
      ]
     },
     "execution_count": 10,
     "metadata": {},
     "output_type": "execute_result"
    }
   ],
   "source": [
    "filtering2D "
   ]
  },
  {
   "cell_type": "code",
   "execution_count": null,
   "id": "8d22c864-7461-4de0-b25d-5870700a887a",
   "metadata": {
    "scrolled": true
   },
   "outputs": [],
   "source": [
    "cv2.imshow(\"original\",img)\n",
    "cv2.waitKey(0)\n",
    "cv2.imshow(\"2D FILTER\",filter2D )\n",
    "cv2.waitKey(0)\n",
    "cv2.destroyAllWindows()     "
   ]
  },
  {
   "cell_type": "code",
   "execution_count": 13,
   "id": "bfc307ab-0726-48cc-ad62-1d30d9c07227",
   "metadata": {},
   "outputs": [],
   "source": [
    "blur = cv2.blur(img,(5,5))\n",
    "cv2.imshow(\"image\", img)\n",
    "cv2.waitKey(0)\n",
    "cv2.imshow(\"BLUR \", blur)\n",
    "cv2.waitKey(0)\n",
    "cv2.destroyAllWindows()"
   ]
  },
  {
   "cell_type": "markdown",
   "id": "127ac3cb-8072-47d0-b904-d6769a80be11",
   "metadata": {},
   "source": [
    "## Img Blurring- Gaussian Filter"
   ]
  },
  {
   "cell_type": "code",
   "execution_count": 16,
   "id": "48b72fb5-5a95-4e54-9f78-b1bd07b4a56a",
   "metadata": {},
   "outputs": [],
   "source": [
    "gauss = cv2.GaussianBlur(img,(5,5),0)"
   ]
  },
  {
   "cell_type": "code",
   "execution_count": 20,
   "id": "278ee103-ac8c-4310-8877-59dbaccd4f87",
   "metadata": {},
   "outputs": [],
   "source": [
    "cv2.imshow(\"orginal\", img)\n",
    "cv2.waitKey(0)\n",
    "cv2.imshow(\"GAUSSIANBLUR\", gauss)\n",
    "cv2.waitKey(0)\n",
    "cv2.destroyAllWindows()"
   ]
  },
  {
   "cell_type": "code",
   "execution_count": 22,
   "id": "fd038b6f-eda1-41fa-a71c-657ade16cb83",
   "metadata": {},
   "outputs": [],
   "source": [
    "MED = cv2.medianBlur(img,5)"
   ]
  },
  {
   "cell_type": "code",
   "execution_count": 24,
   "id": "a2142fb9-557c-4eb5-a9b9-305664898f87",
   "metadata": {},
   "outputs": [],
   "source": [
    "cv2.imshow(\"orginal\", img)\n",
    "cv2.waitKey(0)\n",
    "cv2.imshow(\"medianBlur(img,5)\", MED)\n",
    "cv2.waitKey(0)\n",
    "cv2.destroyAllWindows()"
   ]
  },
  {
   "cell_type": "code",
   "execution_count": null,
   "id": "b5ecc904-c4ee-41d0-ba7b-004384039f13",
   "metadata": {},
   "outputs": [],
   "source": []
  }
 ],
 "metadata": {
  "kernelspec": {
   "display_name": "Python 3 (ipykernel)",
   "language": "python",
   "name": "python3"
  },
  "language_info": {
   "codemirror_mode": {
    "name": "ipython",
    "version": 3
   },
   "file_extension": ".py",
   "mimetype": "text/x-python",
   "name": "python",
   "nbconvert_exporter": "python",
   "pygments_lexer": "ipython3",
   "version": "3.11.9"
  }
 },
 "nbformat": 4,
 "nbformat_minor": 5
}
