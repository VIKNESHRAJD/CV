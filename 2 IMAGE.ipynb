{
 "cells": [
  {
   "cell_type": "code",
   "execution_count": 1,
   "id": "befdf5a5",
   "metadata": {},
   "outputs": [],
   "source": [
    "import cv2\n",
    "import numpy as np"
   ]
  },
  {
   "cell_type": "markdown",
   "id": "5e655ee5",
   "metadata": {},
   "source": [
    "# Reading Image"
   ]
  },
  {
   "cell_type": "code",
   "execution_count": 2,
   "id": "b8f92266",
   "metadata": {},
   "outputs": [],
   "source": [
    "img = cv2.imread('Leo1.jpeg')"
   ]
  },
  {
   "cell_type": "markdown",
   "id": "56ebf1c2",
   "metadata": {},
   "source": [
    "# Displaing the read image"
   ]
  },
  {
   "cell_type": "code",
   "execution_count": 3,
   "id": "2f22ada7",
   "metadata": {},
   "outputs": [],
   "source": [
    "cv2.imshow(\"Image\", img)\n",
    "cv2.waitKey(0)\n",
    "cv2.destroyAllWindows()"
   ]
  },
  {
   "cell_type": "markdown",
   "id": "b32dd7f9",
   "metadata": {},
   "source": [
    "# Shape of an image"
   ]
  },
  {
   "cell_type": "code",
   "execution_count": 4,
   "id": "bda3b5e4",
   "metadata": {},
   "outputs": [
    {
     "data": {
      "text/plain": [
       "(1280, 675, 3)"
      ]
     },
     "execution_count": 4,
     "metadata": {},
     "output_type": "execute_result"
    }
   ],
   "source": [
    "shp = img.shape\n",
    "shp"
   ]
  },
  {
   "cell_type": "markdown",
   "id": "7d548401",
   "metadata": {},
   "source": [
    "# reshape imag"
   ]
  },
  {
   "cell_type": "code",
   "execution_count": 6,
   "id": "36144aaf",
   "metadata": {},
   "outputs": [],
   "source": [
    "reshape_image = cv2.resize(img,(500,500))"
   ]
  },
  {
   "cell_type": "code",
   "execution_count": 7,
   "id": "cf1af402",
   "metadata": {},
   "outputs": [
    {
     "data": {
      "text/plain": [
       "(500, 500, 3)"
      ]
     },
     "execution_count": 7,
     "metadata": {},
     "output_type": "execute_result"
    }
   ],
   "source": [
    "reshape_image.shape"
   ]
  },
  {
   "cell_type": "code",
   "execution_count": 8,
   "id": "817b7c03",
   "metadata": {},
   "outputs": [],
   "source": [
    "cv2.imshow(\"Image\", img)\n",
    "cv2.imshow(\"Resize Image\",reshape_image)\n",
    "cv2.waitKey(0)\n",
    "cv2.destroyAllWindows()"
   ]
  },
  {
   "cell_type": "markdown",
   "id": "ccc96c5e",
   "metadata": {},
   "source": [
    "# value of Pixel"
   ]
  },
  {
   "cell_type": "code",
   "execution_count": 9,
   "id": "edf461b7",
   "metadata": {},
   "outputs": [
    {
     "data": {
      "text/plain": [
       "array([0, 0, 0], dtype=uint8)"
      ]
     },
     "execution_count": 9,
     "metadata": {},
     "output_type": "execute_result"
    }
   ],
   "source": [
    "px =img[201,200]\n",
    "px"
   ]
  },
  {
   "cell_type": "code",
   "execution_count": 10,
   "id": "b2af0fde",
   "metadata": {},
   "outputs": [],
   "source": [
    "img = cv2.imread('Leo1.jpeg')"
   ]
  },
  {
   "cell_type": "code",
   "execution_count": 11,
   "id": "39669b1c",
   "metadata": {},
   "outputs": [],
   "source": [
    "#select ROI\n",
    "r = cv2.selectROI(\"Select the area\",img)\n",
    "\n",
    "# Crop image\n",
    "cropped_image = img[int(r[1]):int(r[1]+r[3]),int(r[0]):int(r[0]+r[2])]\n",
    "\n",
    "cv2.imshow(\"Cropped Image\",cropped_image)\n",
    "cv2.waitKey(0)\n",
    "cv2.destroyAllWindows()"
   ]
  },
  {
   "cell_type": "code",
   "execution_count": 12,
   "id": "7a412a9f",
   "metadata": {
    "collapsed": true,
    "jupyter": {
     "outputs_hidden": true
    }
   },
   "outputs": [
    {
     "data": {
      "text/plain": [
       "array([[[  0,   0,   0],\n",
       "        [  0,   0,   0],\n",
       "        [  0,   0,   0],\n",
       "        ...,\n",
       "        [  0,   0,   0],\n",
       "        [  0,   0,   0],\n",
       "        [  0,   0,   0]],\n",
       "\n",
       "       [[  0,   0,   0],\n",
       "        [  0,   0,   0],\n",
       "        [  0,   0,   0],\n",
       "        ...,\n",
       "        [  0,   0,   0],\n",
       "        [  0,   0,   0],\n",
       "        [  0,   0,   0]],\n",
       "\n",
       "       [[  0,   0,   0],\n",
       "        [  0,   0,   0],\n",
       "        [  0,   0,   0],\n",
       "        ...,\n",
       "        [  0,   0,   0],\n",
       "        [  0,   0,   0],\n",
       "        [  0,   0,   0]],\n",
       "\n",
       "       ...,\n",
       "\n",
       "       [[230, 235, 234],\n",
       "        [223, 228, 227],\n",
       "        [223, 228, 227],\n",
       "        ...,\n",
       "        [ 32,  43,  75],\n",
       "        [ 31,  42,  74],\n",
       "        [ 29,  39,  69]],\n",
       "\n",
       "       [[230, 235, 234],\n",
       "        [222, 227, 226],\n",
       "        [221, 226, 225],\n",
       "        ...,\n",
       "        [ 32,  42,  76],\n",
       "        [ 31,  42,  72],\n",
       "        [ 29,  39,  69]],\n",
       "\n",
       "       [[229, 234, 233],\n",
       "        [221, 226, 225],\n",
       "        [218, 223, 222],\n",
       "        ...,\n",
       "        [ 32,  42,  76],\n",
       "        [ 31,  42,  72],\n",
       "        [ 29,  39,  69]]], dtype=uint8)"
      ]
     },
     "execution_count": 12,
     "metadata": {},
     "output_type": "execute_result"
    }
   ],
   "source": [
    "cropped_image"
   ]
  },
  {
   "cell_type": "markdown",
   "id": "b14073d9",
   "metadata": {},
   "source": [
    "# save Cropped image"
   ]
  },
  {
   "cell_type": "code",
   "execution_count": 16,
   "id": "78e7d26f",
   "metadata": {
    "collapsed": true,
    "jupyter": {
     "outputs_hidden": true
    }
   },
   "outputs": [
    {
     "ename": "AttributeError",
     "evalue": "module 'cv2' has no attribute 'imsave'",
     "output_type": "error",
     "traceback": [
      "\u001b[1;31m---------------------------------------------------------------------------\u001b[0m",
      "\u001b[1;31mAttributeError\u001b[0m                            Traceback (most recent call last)",
      "Input \u001b[1;32mIn [16]\u001b[0m, in \u001b[0;36m<cell line: 1>\u001b[1;34m()\u001b[0m\n\u001b[1;32m----> 1\u001b[0m \u001b[43mcv2\u001b[49m\u001b[38;5;241;43m.\u001b[39;49m\u001b[43mimsave\u001b[49m(\u001b[38;5;124m'\u001b[39m\u001b[38;5;124mLeo1.jpeg\u001b[39m\u001b[38;5;124m'\u001b[39m,cropped_image)\n",
      "\u001b[1;31mAttributeError\u001b[0m: module 'cv2' has no attribute 'imsave'"
     ]
    }
   ],
   "source": [
    "cv2.imsave('Leo1.jpeg',cropped_image)"
   ]
  },
  {
   "cell_type": "code",
   "execution_count": 15,
   "id": "0333db45",
   "metadata": {},
   "outputs": [
    {
     "data": {
      "text/plain": [
       "True"
      ]
     },
     "execution_count": 15,
     "metadata": {},
     "output_type": "execute_result"
    }
   ],
   "source": [
    "cv2.imwrite(\"SaveImage1.jpeg\",cropped_image)"
   ]
  },
  {
   "cell_type": "markdown",
   "id": "17894eb4",
   "metadata": {},
   "source": [
    "\n",
    "# splitting image"
   ]
  },
  {
   "cell_type": "code",
   "execution_count": 17,
   "id": "321f4194",
   "metadata": {
    "collapsed": true,
    "jupyter": {
     "outputs_hidden": true
    }
   },
   "outputs": [
    {
     "data": {
      "text/plain": [
       "array([[[ 0,  0,  0],\n",
       "        [ 0,  0,  0],\n",
       "        [ 0,  0,  0],\n",
       "        ...,\n",
       "        [ 0,  0,  0],\n",
       "        [ 0,  0,  0],\n",
       "        [ 0,  0,  0]],\n",
       "\n",
       "       [[ 0,  0,  0],\n",
       "        [ 0,  0,  0],\n",
       "        [ 0,  0,  0],\n",
       "        ...,\n",
       "        [ 0,  0,  0],\n",
       "        [ 0,  0,  0],\n",
       "        [ 0,  0,  0]],\n",
       "\n",
       "       [[ 0,  0,  0],\n",
       "        [ 0,  0,  0],\n",
       "        [ 0,  0,  0],\n",
       "        ...,\n",
       "        [ 0,  0,  0],\n",
       "        [ 0,  0,  0],\n",
       "        [ 0,  0,  0]],\n",
       "\n",
       "       ...,\n",
       "\n",
       "       [[43, 43, 43],\n",
       "        [43, 43, 43],\n",
       "        [43, 43, 43],\n",
       "        ...,\n",
       "        [47, 47, 47],\n",
       "        [47, 47, 47],\n",
       "        [46, 46, 46]],\n",
       "\n",
       "       [[67, 67, 67],\n",
       "        [68, 68, 68],\n",
       "        [68, 68, 68],\n",
       "        ...,\n",
       "        [54, 54, 54],\n",
       "        [53, 53, 53],\n",
       "        [53, 53, 53]],\n",
       "\n",
       "       [[69, 69, 69],\n",
       "        [69, 69, 69],\n",
       "        [70, 70, 70],\n",
       "        ...,\n",
       "        [59, 59, 59],\n",
       "        [59, 59, 59],\n",
       "        [58, 58, 58]]], dtype=uint8)"
      ]
     },
     "execution_count": 17,
     "metadata": {},
     "output_type": "execute_result"
    }
   ],
   "source": [
    "img = cv2.imread('Leo1.jpeg')\n",
    "img"
   ]
  },
  {
   "cell_type": "code",
   "execution_count": 18,
   "id": "26c049cc",
   "metadata": {},
   "outputs": [],
   "source": [
    "b,g,r  = cv2.split(img)\n",
    "\n",
    "cv2.imshow('image',img)\n",
    "cv2.imshow(\"blue\",b)\n",
    "cv2.imshow(\"green\",g)\n",
    "cv2.imshow(\"red\",r)\n",
    "cv2.waitKey(0)\n",
    "cv2.destroyAllWindows()"
   ]
  },
  {
   "cell_type": "markdown",
   "id": "932c5c41",
   "metadata": {},
   "source": [
    "# Merging an image"
   ]
  },
  {
   "cell_type": "code",
   "execution_count": null,
   "id": "f8cce5dd",
   "metadata": {},
   "outputs": [],
   "source": []
  }
 ],
 "metadata": {
  "kernelspec": {
   "display_name": "Python 3 (ipykernel)",
   "language": "python",
   "name": "python3"
  },
  "language_info": {
   "codemirror_mode": {
    "name": "ipython",
    "version": 3
   },
   "file_extension": ".py",
   "mimetype": "text/x-python",
   "name": "python",
   "nbconvert_exporter": "python",
   "pygments_lexer": "ipython3",
   "version": "3.11.9"
  }
 },
 "nbformat": 4,
 "nbformat_minor": 5
}
