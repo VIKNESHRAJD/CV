{
 "cells": [
  {
   "cell_type": "markdown",
   "id": "67eb1c8e",
   "metadata": {},
   "source": [
    "# Image "
   ]
  },
  {
   "cell_type": "code",
   "execution_count": 1,
   "id": "d4143f94-dff4-4b9b-b2e1-c4a7e1b69a92",
   "metadata": {},
   "outputs": [
    {
     "name": "stdout",
     "output_type": "stream",
     "text": [
      "Requirement already satisfied: opencv-python in c:\\users\\priyadharshni\\anaconda3\\lib\\site-packages (4.9.0.80)\n",
      "Requirement already satisfied: numpy>=1.19.3 in c:\\users\\priyadharshni\\anaconda3\\lib\\site-packages (from opencv-python) (1.21.5)\n",
      "Note: you may need to restart the kernel to use updated packages.\n"
     ]
    }
   ],
   "source": [
    "pip install opencv-python"
   ]
  },
  {
   "cell_type": "code",
   "execution_count": 2,
   "id": "9e03e81f-5f7d-4130-9bd6-60a068c0ebbe",
   "metadata": {},
   "outputs": [],
   "source": [
    "import numpy "
   ]
  },
  {
   "cell_type": "code",
   "execution_count": 3,
   "id": "0e5d0463-9cde-420a-9f5c-00b65ac1306c",
   "metadata": {},
   "outputs": [
    {
     "data": {
      "text/plain": [
       "'1.21.5'"
      ]
     },
     "execution_count": 3,
     "metadata": {},
     "output_type": "execute_result"
    }
   ],
   "source": [
    "numpy.__version__"
   ]
  },
  {
   "cell_type": "code",
   "execution_count": 4,
   "id": "26010d13-6efa-4471-8cb0-d5b6f6422314",
   "metadata": {},
   "outputs": [
    {
     "name": "stdout",
     "output_type": "stream",
     "text": [
      "Requirement already satisfied: opencv-python in c:\\users\\priyadharshni\\anaconda3\\lib\\site-packages (4.9.0.80)\n",
      "Collecting opencv-python\n",
      "  Downloading opencv_python-4.10.0.84-cp37-abi3-win_amd64.whl (38.8 MB)\n",
      "Requirement already satisfied: numpy>=1.17.3 in c:\\users\\priyadharshni\\anaconda3\\lib\\site-packages (from opencv-python) (1.21.5)\n",
      "Installing collected packages: opencv-python\n",
      "  Attempting uninstall: opencv-python\n",
      "    Found existing installation: opencv-python 4.9.0.80\n",
      "    Uninstalling opencv-python-4.9.0.80:\n",
      "      Successfully uninstalled opencv-python-4.9.0.80\n",
      "Successfully installed opencv-python-4.10.0.84\n",
      "Note: you may need to restart the kernel to use updated packages.\n"
     ]
    }
   ],
   "source": [
    "pip install --upgrade opencv-python"
   ]
  },
  {
   "cell_type": "code",
   "execution_count": 5,
   "id": "e876954c-8aeb-493b-88da-8fc4781ca6e2",
   "metadata": {},
   "outputs": [],
   "source": [
    "import cv2"
   ]
  },
  {
   "cell_type": "markdown",
   "id": "e1e51fbb-1773-4391-b810-f7dbdcda66ea",
   "metadata": {},
   "source": [
    "check the version"
   ]
  },
  {
   "cell_type": "code",
   "execution_count": 6,
   "id": "aed93295-f700-45be-b55f-cd50eaaec5d7",
   "metadata": {},
   "outputs": [
    {
     "name": "stdout",
     "output_type": "stream",
     "text": [
      "Requirement already satisfied: numpy in c:\\users\\priyadharshni\\anaconda3\\lib\\site-packages (1.21.5)Note: you may need to restart the kernel to use updated packages.\n"
     ]
    },
    {
     "name": "stderr",
     "output_type": "stream",
     "text": [
      "ERROR: pip's dependency resolver does not currently take into account all the packages that are installed. This behaviour is the source of the following dependency conflicts.\n",
      "daal4py 2021.5.0 requires daal==2021.4.0, which is not installed.\n",
      "scipy 1.7.3 requires numpy<1.23.0,>=1.16.5, but you have numpy 2.0.1 which is incompatible.\n",
      "scikit-learn 1.4.1.post1 requires numpy<2.0,>=1.19.5, but you have numpy 2.0.1 which is incompatible.\n",
      "numba 0.55.1 requires numpy<1.22,>=1.18, but you have numpy 2.0.1 which is incompatible.\n"
     ]
    },
    {
     "name": "stdout",
     "output_type": "stream",
     "text": [
      "\n",
      "Collecting numpy\n",
      "  Downloading numpy-2.0.1-cp39-cp39-win_amd64.whl (16.6 MB)\n",
      "Installing collected packages: numpy\n",
      "  Attempting uninstall: numpy\n",
      "    Found existing installation: numpy 1.21.5\n",
      "    Uninstalling numpy-1.21.5:\n",
      "      Successfully uninstalled numpy-1.21.5\n",
      "Successfully installed numpy-2.0.1\n"
     ]
    }
   ],
   "source": [
    "pip install --upgrade numpy"
   ]
  },
  {
   "cell_type": "markdown",
   "id": "9f44d101-a8b6-4780-abff-048cdaf3f608",
   "metadata": {},
   "source": [
    "# Reading image"
   ]
  },
  {
   "cell_type": "code",
   "execution_count": 7,
   "id": "b188eb4e-f0d3-465a-a0bc-9eb0a07cca38",
   "metadata": {},
   "outputs": [],
   "source": [
    "import cv2"
   ]
  },
  {
   "cell_type": "code",
   "execution_count": 8,
   "id": "b354e34d-7c8d-4492-a16a-91cca6cfb646",
   "metadata": {},
   "outputs": [],
   "source": [
    "import numpy as np"
   ]
  },
  {
   "cell_type": "code",
   "execution_count": 15,
   "id": "a3bbda3b-b1c8-41d9-b01d-1fcde60301bb",
   "metadata": {},
   "outputs": [],
   "source": [
    "img=cv2.imread('Leo1.jpg')"
   ]
  },
  {
   "cell_type": "code",
   "execution_count": 16,
   "id": "6e90292d-da2e-4e07-ad85-6958519ad26d",
   "metadata": {
    "collapsed": true
   },
   "outputs": [
    {
     "name": "stdout",
     "output_type": "stream",
     "text": [
      "[[[211 228 225]\n",
      "  [210 227 224]\n",
      "  [210 227 224]\n",
      "  ...\n",
      "  [ 43  71  78]\n",
      "  [ 34  62  69]\n",
      "  [ 35  63  70]]\n",
      "\n",
      " [[211 228 225]\n",
      "  [210 227 224]\n",
      "  [210 227 224]\n",
      "  ...\n",
      "  [ 42  70  77]\n",
      "  [ 40  68  75]\n",
      "  [ 44  72  79]]\n",
      "\n",
      " [[211 228 225]\n",
      "  [211 228 225]\n",
      "  [210 227 224]\n",
      "  ...\n",
      "  [ 46  74  81]\n",
      "  [ 45  73  80]\n",
      "  [ 48  76  83]]\n",
      "\n",
      " ...\n",
      "\n",
      " [[190 194 195]\n",
      "  [191 195 196]\n",
      "  [192 196 197]\n",
      "  ...\n",
      "  [ 10  38  55]\n",
      "  [ 11  39  56]\n",
      "  [ 12  40  57]]\n",
      "\n",
      " [[190 194 195]\n",
      "  [190 194 195]\n",
      "  [190 194 195]\n",
      "  ...\n",
      "  [ 11  39  56]\n",
      "  [ 11  39  56]\n",
      "  [ 10  38  55]]\n",
      "\n",
      " [[190 194 195]\n",
      "  [189 193 194]\n",
      "  [188 192 193]\n",
      "  ...\n",
      "  [ 11  39  56]\n",
      "  [  8  36  53]\n",
      "  [  5  33  50]]]\n"
     ]
    }
   ],
   "source": [
    "print(img)"
   ]
  },
  {
   "cell_type": "code",
   "execution_count": null,
   "id": "d8b7d31a-87c6-4a29-b134-490889a39fe5",
   "metadata": {},
   "outputs": [],
   "source": []
  },
  {
   "cell_type": "code",
   "execution_count": 17,
   "id": "3d5445d5-a644-494d-abf7-4009537acfb0",
   "metadata": {},
   "outputs": [],
   "source": [
    "color_avl=[i for i in dir(cv2) if i.startswith(\"COLOR_BGR\")]"
   ]
  },
  {
   "cell_type": "code",
   "execution_count": 18,
   "id": "a44960f1-d0c6-4420-91be-63c381a07f8b",
   "metadata": {},
   "outputs": [
    {
     "name": "stdout",
     "output_type": "stream",
     "text": [
      "['COLOR_BGR2BGR555', 'COLOR_BGR2BGR565', 'COLOR_BGR2BGRA', 'COLOR_BGR2GRAY', 'COLOR_BGR2HLS', 'COLOR_BGR2HLS_FULL', 'COLOR_BGR2HSV', 'COLOR_BGR2HSV_FULL', 'COLOR_BGR2LAB', 'COLOR_BGR2LUV', 'COLOR_BGR2Lab', 'COLOR_BGR2Luv', 'COLOR_BGR2RGB', 'COLOR_BGR2RGBA', 'COLOR_BGR2XYZ', 'COLOR_BGR2YCR_CB', 'COLOR_BGR2YCrCb', 'COLOR_BGR2YUV', 'COLOR_BGR2YUV_I420', 'COLOR_BGR2YUV_IYUV', 'COLOR_BGR2YUV_UYNV', 'COLOR_BGR2YUV_UYVY', 'COLOR_BGR2YUV_Y422', 'COLOR_BGR2YUV_YUNV', 'COLOR_BGR2YUV_YUY2', 'COLOR_BGR2YUV_YUYV', 'COLOR_BGR2YUV_YV12', 'COLOR_BGR2YUV_YVYU', 'COLOR_BGR5552BGR', 'COLOR_BGR5552BGRA', 'COLOR_BGR5552GRAY', 'COLOR_BGR5552RGB', 'COLOR_BGR5552RGBA', 'COLOR_BGR5652BGR', 'COLOR_BGR5652BGRA', 'COLOR_BGR5652GRAY', 'COLOR_BGR5652RGB', 'COLOR_BGR5652RGBA', 'COLOR_BGRA2BGR', 'COLOR_BGRA2BGR555', 'COLOR_BGRA2BGR565', 'COLOR_BGRA2GRAY', 'COLOR_BGRA2RGB', 'COLOR_BGRA2RGBA', 'COLOR_BGRA2YUV_I420', 'COLOR_BGRA2YUV_IYUV', 'COLOR_BGRA2YUV_UYNV', 'COLOR_BGRA2YUV_UYVY', 'COLOR_BGRA2YUV_Y422', 'COLOR_BGRA2YUV_YUNV', 'COLOR_BGRA2YUV_YUY2', 'COLOR_BGRA2YUV_YUYV', 'COLOR_BGRA2YUV_YV12', 'COLOR_BGRA2YUV_YVYU']\n"
     ]
    }
   ],
   "source": [
    "print(color_avl)"
   ]
  },
  {
   "cell_type": "code",
   "execution_count": 22,
   "id": "bba741e0",
   "metadata": {},
   "outputs": [],
   "source": [
    "img =cv2.imread( \"Leo1.jpg\" )"
   ]
  },
  {
   "cell_type": "code",
   "execution_count": 23,
   "id": "e34e89f8",
   "metadata": {},
   "outputs": [],
   "source": [
    "gray=cv2.cvtColor(img,cv2.COLOR_BGR2GRAY)\n",
    "hsv =cv2.cvtColor(img,cv2.COLOR_BGR2HSV)\n",
    "rgb =cv2.cvtColor(img,cv2.COLOR_BGR2RGB)"
   ]
  },
  {
   "cell_type": "code",
   "execution_count": null,
   "id": "eb69f84b",
   "metadata": {},
   "outputs": [],
   "source": []
  }
 ],
 "metadata": {
  "kernelspec": {
   "display_name": "Python 3 (ipykernel)",
   "language": "python",
   "name": "python3"
  },
  "language_info": {
   "codemirror_mode": {
    "name": "ipython",
    "version": 3
   },
   "file_extension": ".py",
   "mimetype": "text/x-python",
   "name": "python",
   "nbconvert_exporter": "python",
   "pygments_lexer": "ipython3",
   "version": "3.9.12"
  }
 },
 "nbformat": 4,
 "nbformat_minor": 5
}
